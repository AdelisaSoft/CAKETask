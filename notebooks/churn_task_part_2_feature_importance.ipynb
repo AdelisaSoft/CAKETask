{
 "cells": [
  {
   "cell_type": "code",
   "execution_count": 2,
   "metadata": {},
   "outputs": [],
   "source": [
    "import pandas as pd\n",
    "import matplotlib.pyplot as plt"
   ]
  },
  {
   "cell_type": "code",
   "execution_count": 3,
   "metadata": {},
   "outputs": [],
   "source": [
    "churn_df = pd.read_csv(\"../data/task_data_churned_clean.csv\")"
   ]
  },
  {
   "cell_type": "code",
   "execution_count": 4,
   "metadata": {},
   "outputs": [
    {
     "data": {
      "text/plain": [
       "Index(['Unnamed: 0', 'ws_users_activated', 'ws_users_deactivated',\n",
       "       'ws_users_invited', 'action_create_project', 'action_export_report',\n",
       "       'action_api_and_webhooks', 'action_time_entries_via_tracker',\n",
       "       'action_start_trial', 'action_import_csv', 'action_create_invoice',\n",
       "       'action_lock_entries', 'action_add_targets',\n",
       "       'action_connect_quickbooks', 'action_create_expense',\n",
       "       'action_project_budget', 'country', 'value_days_to_purchase',\n",
       "       'value_number_of_active_months', 'value_transactions_number',\n",
       "       'value_regular_seats', 'value_kiosk_seats', 'revenue',\n",
       "       'churned_status'],\n",
       "      dtype='object')"
      ]
     },
     "execution_count": 4,
     "metadata": {},
     "output_type": "execute_result"
    }
   ],
   "source": [
    "churn_df.columns"
   ]
  },
  {
   "cell_type": "markdown",
   "metadata": {},
   "source": [
    "## Column explanation\n",
    "\n",
    "Let's now try to give reasoning what each column could tell us, while keeping in mind that this is time tracking software (SaaS) "
   ]
  },
  {
   "cell_type": "markdown",
   "metadata": {},
   "source": [
    "- 'ws_users_activated' : How many users have activated account in a workspace, assuming the bigger the number this is more likely is that this client didn't churn\n",
    "\n",
    "- 'ws_users_deactivated' : How many users have deactivated account in a workspace, assuming the bigger the number this is more likely is that this client did (dissatisfaction)\n",
    "\n",
    "- 'ws_users_invited' : How many users were invited but haven't  joined workspace. We can conclude that if the number of invited people is big that the client won't churn\n",
    "\n",
    "- 'action_create_project' : How many project have been created \n",
    "\n",
    "- 'action_export_report', : How many times has report been exported\n",
    "\n",
    "- 'action_api_and_webhooks' : /\n",
    "\n",
    "- 'action_time_entries_via_tracker', : How much entries do we have. More entries, probably no churn.\n",
    "\n",
    "- 'action_start_trial', : The client who is interested in trial could tell us that he likes the product and is exploring capabilties.\n",
    "\n",
    "- 'action_import_csv', : Probably you can import entries as a csv, in similar fashion as they are exported.\n",
    "\n",
    "- 'action_create_invoice', : How many times invoice has been created. We can conclude that if the number is big that the client is satisfied\n",
    "\n",
    "- 'action_lock_entries', : How many times lock has happened. Bigger the number, probably more long term partnership, leading to no churn\n",
    "\n",
    "- 'action_add_targets', : /\n",
    "\n",
    "- 'action_connect_quickbooks', : /\n",
    "\n",
    "- 'action_create_expense', : Similar to create invoice, but only for expenses/total amount to pay per invoice or something similar\n",
    "\n",
    "- 'action_project_budget', : Bu\n",
    "\n",
    "- 'country', \n",
    "\n",
    "- 'value_days_to_purchase',\n",
    "\n",
    "- 'value_number_of_active_months', \n",
    "\n",
    "- 'value_transactions_number',\n",
    "\n",
    "- 'value_regular_seats', \n",
    "\n",
    "- 'value_kiosk_seats', \n",
    "\n",
    "- 'revenue',\n",
    "\n",
    "- 'churned_status'"
   ]
  },
  {
   "cell_type": "markdown",
   "metadata": {},
   "source": []
  }
 ],
 "metadata": {
  "kernelspec": {
   "display_name": "cakeENV",
   "language": "python",
   "name": "python3"
  },
  "language_info": {
   "codemirror_mode": {
    "name": "ipython",
    "version": 3
   },
   "file_extension": ".py",
   "mimetype": "text/x-python",
   "name": "python",
   "nbconvert_exporter": "python",
   "pygments_lexer": "ipython3",
   "version": "3.11.5"
  },
  "orig_nbformat": 4
 },
 "nbformat": 4,
 "nbformat_minor": 2
}
